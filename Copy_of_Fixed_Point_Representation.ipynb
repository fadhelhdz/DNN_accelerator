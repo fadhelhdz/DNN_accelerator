{
  "nbformat": 4,
  "nbformat_minor": 0,
  "metadata": {
    "colab": {
      "provenance": []
    },
    "kernelspec": {
      "name": "python3",
      "display_name": "Python 3"
    },
    "language_info": {
      "name": "python"
    }
  },
  "cells": [
    {
      "cell_type": "code",
      "execution_count": null,
      "metadata": {
        "id": "WyEjRQITqtW-"
      },
      "outputs": [],
      "source": [
        "def float_to_fixed_sign_magnitude(value, int_bits=0, frac_bits=15):\n",
        "    total_bits = 1 + int_bits + frac_bits\n",
        "    scale = 1 << frac_bits  # 2^frac_bits\n",
        "\n",
        "    max_val = (1 << int_bits) - 1 + (1 - 1 / scale)\n",
        "    min_val = -max_val\n",
        "\n",
        "    if not (min_val <= value <= max_val):\n",
        "        raise ValueError(f\"Value {value} out of range for format with {int_bits} integer bits and {frac_bits} fractional bits.\")\n",
        "\n",
        "    # Get sign bit\n",
        "    sign_bit = 0\n",
        "    if value < 0:\n",
        "        sign_bit = 1\n",
        "        value = -value\n",
        "\n",
        "    # Convert fractional part\n",
        "    fixed_val = int(round(value * scale))\n",
        "\n",
        "    # Mask to ensure it fits in the bits\n",
        "    fixed_val &= (1 << (int_bits + frac_bits)) - 1\n",
        "\n",
        "    # Shift left and add sign bit\n",
        "    result = (sign_bit << (int_bits + frac_bits)) | fixed_val\n",
        "\n",
        "    # Return binary string\n",
        "    return format(result, f'0{total_bits}b')\n"
      ]
    },
    {
      "cell_type": "code",
      "source": [
        "# Matrix A\n",
        "print(float_to_fixed_sign_magnitude(0.25, 0, 15))\n",
        "print(float_to_fixed_sign_magnitude(-0.65, 0, 15))\n",
        "print(float_to_fixed_sign_magnitude(-0.1625, 0, 15))\n",
        "print(float_to_fixed_sign_magnitude(0.3, 0, 15))\n",
        "print(float_to_fixed_sign_magnitude(-0.4, 0, 15))\n",
        "print(float_to_fixed_sign_magnitude(0.5, 1, 14))\n",
        "print(float_to_fixed_sign_magnitude(-0.6, 1, 14))\n",
        "print(float_to_fixed_sign_magnitude(0.7, 1, 14))\n",
        "print(float_to_fixed_sign_magnitude(-0.8, 1, 14))\n",
        "print(float_to_fixed_sign_magnitude(0.9, 1, 14))"
      ],
      "metadata": {
        "colab": {
          "base_uri": "https://localhost:8080/"
        },
        "id": "6w0z0k2wrTPl",
        "outputId": "9ffc7afc-6306-4dda-d5c8-2310dd83612f"
      },
      "execution_count": null,
      "outputs": [
        {
          "output_type": "stream",
          "name": "stdout",
          "text": [
            "0010000000000000\n",
            "1101001100110011\n",
            "1001010011001101\n",
            "0010011001100110\n",
            "1011001100110011\n",
            "0010000000000000\n",
            "1010011001100110\n",
            "0010110011001101\n",
            "1011001100110011\n",
            "0011100110011010\n"
          ]
        }
      ]
    },
    {
      "cell_type": "code",
      "source": [
        "# Matrix B\n",
        "print(float_to_fixed_sign_magnitude(-0.9, 1, 14))\n",
        "print(float_to_fixed_sign_magnitude(0.8, 1, 14))\n",
        "print(float_to_fixed_sign_magnitude(-0.7, 1, 14))\n",
        "print(float_to_fixed_sign_magnitude(0.6, 1, 14))\n",
        "print(float_to_fixed_sign_magnitude(-0.5, 1, 14))\n",
        "print(float_to_fixed_sign_magnitude(0.4, 1, 14))\n",
        "print(float_to_fixed_sign_magnitude(-0.3, 1, 14))\n",
        "print(float_to_fixed_sign_magnitude(0.2, 1, 14))\n",
        "print(float_to_fixed_sign_magnitude(-0.1, 1, 14))"
      ],
      "metadata": {
        "colab": {
          "base_uri": "https://localhost:8080/"
        },
        "id": "nfUJrZlwtH7x",
        "outputId": "053ccd19-8e34-4224-d585-78ee0a8903b3"
      },
      "execution_count": null,
      "outputs": [
        {
          "output_type": "stream",
          "name": "stdout",
          "text": [
            "1011100110011010\n",
            "0011001100110011\n",
            "1010110011001101\n",
            "0010011001100110\n",
            "1010000000000000\n",
            "0001100110011010\n",
            "1001001100110011\n",
            "0000110011001101\n",
            "1000011001100110\n"
          ]
        }
      ]
    },
    {
      "cell_type": "code",
      "source": [
        "def dec2q(x, a=0, b=15, out_format='bin'):\n",
        "    \"\"\"\n",
        "    Convert decimal numbers to Qa.b fixed-point format in binary or hex (two's complement).\n",
        "\n",
        "    Parameters:\n",
        "    - x: Scalar or list of decimal numbers.\n",
        "    - a: Integer bits (excluding sign bit), default 0.\n",
        "    - b: Fractional bits, default 15.\n",
        "    - out_format: 'bin' or 'hex', default 'bin'.\n",
        "\n",
        "    Returns:\n",
        "    - List of strings (binary or hex) in Qa.b format.\n",
        "    \"\"\"\n",
        "    # Convert scalar to list\n",
        "    if not isinstance(x, (list, tuple)):\n",
        "        x = [x]\n",
        "\n",
        "    # Validate inputs\n",
        "    if a < 0 or b < 0:\n",
        "        raise ValueError(\"Inputs 'a' and 'b' must be non-negative\")\n",
        "    out_format = out_format.lower()\n",
        "    if out_format not in ['bin', 'hex']:\n",
        "        raise ValueError(\"Format must be 'bin' or 'hex'\")\n",
        "\n",
        "    # Total bits: sign + integer + fractional\n",
        "    N = 1 + a + b\n",
        "\n",
        "    # For hex, check if bits are multiple of 4\n",
        "    if out_format == 'hex' and N % 4 != 0:\n",
        "        raise ValueError(\"Hex output requires total bits to be a multiple of 4\")\n",
        "\n",
        "    # Qa.b range\n",
        "    max_val = (2 ** a) - (2 ** -b)\n",
        "    min_val = -(2 ** a)\n",
        "\n",
        "    y = []\n",
        "    for value in x:\n",
        "        # Clip input\n",
        "        if value < min_val:\n",
        "            value = min_val\n",
        "            print(\"dec2q: input clipped (too small)\")\n",
        "        elif value > max_val:\n",
        "            value = max_val\n",
        "            print(\"dec2q: input clipped (too big)\")\n",
        "\n",
        "        # Scale to integer (two's complement)\n",
        "        scale = 2 ** b\n",
        "        if value >= 0:\n",
        "            fixed_val = int(round(value * scale))\n",
        "        else:\n",
        "            fixed_val = int(round(abs(value) * scale))\n",
        "            fixed_val = (1 << N) - fixed_val  # Two's complement\n",
        "\n",
        "        # Ensure N-bit binary\n",
        "        binary = format(fixed_val & ((1 << N) - 1), f'0{N}b')\n",
        "\n",
        "        # Output format\n",
        "        if out_format == 'hex':\n",
        "            hex_val = format(int(binary, 2), f'0{N//4}x')\n",
        "            y.append(hex_val)\n",
        "        else:\n",
        "            y.append(binary)\n",
        "\n",
        "    return y"
      ],
      "metadata": {
        "id": "zXslexJiZlKb"
      },
      "execution_count": null,
      "outputs": []
    },
    {
      "cell_type": "code",
      "source": [
        "print(\"Matrix A\")\n",
        "print(dec2q(0.1))\n",
        "print(dec2q(-0.2))\n",
        "print(dec2q(0.3))\n",
        "print(dec2q(-0.4))\n",
        "print(dec2q(0.5))\n",
        "print(dec2q(-0.6))\n",
        "print(dec2q(0.7))\n",
        "print(dec2q(-0.8))\n",
        "print(dec2q(0.9))"
      ],
      "metadata": {
        "colab": {
          "base_uri": "https://localhost:8080/"
        },
        "id": "f3Pqm5ipsAi2",
        "outputId": "3ac6c672-b287-400e-b447-29028c0e12f0"
      },
      "execution_count": null,
      "outputs": [
        {
          "output_type": "stream",
          "name": "stdout",
          "text": [
            "Matrix A\n",
            "['0000110011001101']\n",
            "['1110011001100110']\n",
            "['0010011001100110']\n",
            "['1100110011001101']\n",
            "['0100000000000000']\n",
            "['1011001100110011']\n",
            "['0101100110011010']\n",
            "['1001100110011010']\n",
            "['0111001100110011']\n"
          ]
        }
      ]
    },
    {
      "cell_type": "code",
      "source": [
        "print(\"Matrix B\")\n",
        "print(dec2q(-0.9))\n",
        "print(dec2q(0.8))\n",
        "print(dec2q(-0.7))\n",
        "print(dec2q(0.6))\n",
        "print(dec2q(-0.5))\n",
        "print(dec2q(0.4))\n",
        "print(dec2q(-0.3))\n",
        "print(dec2q(0.2))\n",
        "print(dec2q(-0.1))"
      ],
      "metadata": {
        "colab": {
          "base_uri": "https://localhost:8080/"
        },
        "id": "QokL1V9ITESH",
        "outputId": "1dafb1de-5a8a-4317-e70b-1cb8cf561f30"
      },
      "execution_count": null,
      "outputs": [
        {
          "output_type": "stream",
          "name": "stdout",
          "text": [
            "Matrix B\n",
            "['1000110011001101']\n",
            "['0110011001100110']\n",
            "['1010011001100110']\n",
            "['0100110011001101']\n",
            "['1100000000000000']\n",
            "['0011001100110011']\n",
            "['1101100110011010']\n",
            "['0001100110011010']\n",
            "['1111001100110011']\n"
          ]
        }
      ]
    },
    {
      "cell_type": "code",
      "source": [
        "print(dec2q(-0.1))"
      ],
      "metadata": {
        "colab": {
          "base_uri": "https://localhost:8080/"
        },
        "id": "JLV7OZLUTWyD",
        "outputId": "bab38574-96f8-4d1f-d368-6ed3cc400ac6"
      },
      "execution_count": null,
      "outputs": [
        {
          "output_type": "stream",
          "name": "stdout",
          "text": [
            "['1111001100110011']\n"
          ]
        }
      ]
    },
    {
      "cell_type": "code",
      "source": [
        "print(dec2q(0.1))"
      ],
      "metadata": {
        "colab": {
          "base_uri": "https://localhost:8080/"
        },
        "id": "M3zXBqp3k9Kv",
        "outputId": "68489736-55ed-4546-b8e4-8d6b3b9afe5e"
      },
      "execution_count": null,
      "outputs": [
        {
          "output_type": "stream",
          "name": "stdout",
          "text": [
            "['0000110011001101']\n"
          ]
        }
      ]
    },
    {
      "cell_type": "code",
      "source": [],
      "metadata": {
        "id": "zm4Yp6o5jbzx"
      },
      "execution_count": null,
      "outputs": []
    }
  ]
}